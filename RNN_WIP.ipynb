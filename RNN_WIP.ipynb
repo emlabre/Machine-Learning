{
 "cells": [
  {
   "cell_type": "markdown",
   "id": "78a7882d-73b0-49d4-8409-831ee15f5af4",
   "metadata": {},
   "source": [
    "# A Work in Progress Recurrent Neural Network\n",
    "\n",
    "The dataset given has the normalized optical density (OD<sub>600</sub>) as a function of antibacterial activity (growth inhibition). To use a recurrent neural network, there needs to be a multiple to one relationship between antibacterial activity to OD. To do this, 2 discrete bins were created to classify compounds as active (1) or inactive (0) with a threshold of OD<sub>600</sub> < 0.2 to define growth inhibitory activity. While this is not completely physical, it was used to move forward with progress. More bins will capture more accurate physics however there will be less data associated with each bin for training. Another drawback for this method is it places a bound on the data being classified. It is possible for a chemical composition to produce an OD<sub>600</sub> outside of the established range but this ML algorithm will not properly predict this."
   ]
  },
  {
   "cell_type": "code",
   "execution_count": 1,
   "id": "c2c15d38-b3b0-43e9-9966-55f3b287f1f6",
   "metadata": {},
   "outputs": [],
   "source": [
    "import numpy as np\n",
    "import pandas as pd\n",
    "import torch\n",
    "import torch.nn as nn\n",
    "import random\n",
    "import matplotlib.pyplot as plt\n",
    "import matplotlib.ticker as ticker\n",
    "import time\n",
    "import math"
   ]
  },
  {
   "cell_type": "markdown",
   "id": "bf3e55f3-2dbe-4e82-a956-2da9df77ba92",
   "metadata": {},
   "source": [
    "Not actually used in this version, but an alternative method for processing SMILES data considered:\n",
    "- use a package called [SmilesPE](https://github.com/XinhaoLi74/SmilesPE/tree/master) to tokenize SMILES data to manipulate instead of generating feature vectors\n",
    "- installation: `pip install SmilesPE`"
   ]
  },
  {
   "cell_type": "code",
   "execution_count": null,
   "id": "23f1b5e6-8e7c-4a4f-bc31-6a1483667ea7",
   "metadata": {},
   "outputs": [],
   "source": [
    "# from SmilesPE.pretokenizer import atomwise_tokenizer\n",
    "# from SmilesPE.pretokenizer import kmer_tokenizer\n",
    "# smi_atom = 'CC[N+](C)(C)Cc1ccccc1Br' # tokenizes by atoms \n",
    "# toks_atom = atomwise_tokenizer(smi_atom)\n",
    "# print(toks_atom)\n",
    "\n",
    "# smi_kmer = 'CC[N+](C)(C)Cc1ccccc1Br' # tokenizes by k-mers\n",
    "# toks_kmer = kmer_tokenizer(smi_kmer)\n",
    "# print(toks_kmer)"
   ]
  },
  {
   "cell_type": "markdown",
   "id": "a9f8df06-605e-4e3d-919f-8de9824ce06c",
   "metadata": {},
   "source": [
    "Moving on, let's first extract data from a dataset obtained from the paper [A Deep Learning Approach to Antibiotic Discovery](https://doi.org/10.1016/j.cell.2020.01.021), which contains molecule entries in SMILES format with their normalized OD<sub>600</sub> values given as \"mean inhibition\"."
   ]
  },
  {
   "cell_type": "code",
   "execution_count": 2,
   "id": "cf48aefb-43fa-4714-ab07-1323c1b00efb",
   "metadata": {},
   "outputs": [],
   "source": [
    "# extract the data \n",
    "data = pd.read_csv('bin_data.csv',keep_default_na=False,header=1)\n",
    "smiles = data['SMILES'] # SMILES is the header of the SMILES column\n",
    "categories = data['Activity'] # Activity is the header of the Bin column"
   ]
  },
  {
   "cell_type": "markdown",
   "id": "6f8bf9b2-b034-43b0-b539-ebfa578b8336",
   "metadata": {},
   "source": [
    "In order to translate SMILES characters to numbers, the characters are tokenized and the arranged in a string. Each token’s index becomes the associated number which can then be fed into pytorch.\n",
    "\n",
    "Alternative tokenization methods are possible however they were not utilized due to time limitations. SMILES molecules can be tokenized by atoms or k-mers which may improve accuracy. "
   ]
  },
  {
   "cell_type": "code",
   "execution_count": 3,
   "id": "6908ceea-3cf4-48b7-9515-695a3ae99c76",
   "metadata": {},
   "outputs": [],
   "source": [
    "smiles_concat=''.join(str(smiles)) # Join all the SMILE strings together"
   ]
  },
  {
   "cell_type": "markdown",
   "id": "5a3b8bf2-dd08-49a8-939a-0a38cc77a703",
   "metadata": {},
   "source": [
    "*if using SmilesPE package, SmilesPE tokenizer would be used here:*\n",
    "\n",
    "`toks=atomwise_tokenizer(smiles_concat)`"
   ]
  },
  {
   "cell_type": "code",
   "execution_count": 5,
   "id": "070d6971-0ea9-4362-8973-9b1ca0d789bd",
   "metadata": {
    "tags": []
   },
   "outputs": [],
   "source": [
    "all_chars=''.join(set(smiles_concat)) # Extract unique characters from combined SMILE strings into a set and then joining as a string\n",
    "n_chars=len(all_chars)"
   ]
  },
  {
   "cell_type": "code",
   "execution_count": 20,
   "id": "07ed3fef-1e9c-455f-8d5c-39e36265cb5d",
   "metadata": {},
   "outputs": [
    {
     "name": "stdout",
     "output_type": "stream",
     "text": [
      "all_categories type: <class 'list'>\n",
      "All categories: ['Inactive', 'Active']\n",
      "Number of categories: 2\n"
     ]
    }
   ],
   "source": [
    "categories_set=set(categories)\n",
    "n_categories=len(categories_set)\n",
    "all_categories=list(categories_set)\n",
    "all_categories.reverse()\n",
    "print('all_categories type:', type(all_categories))\n",
    "print('All categories:', all_categories)\n",
    "print('Number of categories:',n_categories)"
   ]
  },
  {
   "cell_type": "code",
   "execution_count": 21,
   "id": "59e39442-f89f-4996-bbe8-54146d0d048d",
   "metadata": {},
   "outputs": [],
   "source": [
    "# Find character index from all_chars\n",
    "def charToIndex(char):\n",
    "    return all_chars.find(char)"
   ]
  },
  {
   "cell_type": "code",
   "execution_count": 22,
   "id": "4b3c83a8-38b4-4e8b-94fd-59a2c263837f",
   "metadata": {
    "tags": []
   },
   "outputs": [],
   "source": [
    "# turn a character into a <1 x n_chars> Tensor\n",
    "def charToTensor(char):\n",
    "    tensor = torch.zeros(1, n_chars)\n",
    "    tensor[0][charToIndex(char)] = 1\n",
    "    return tensor"
   ]
  },
  {
   "cell_type": "code",
   "execution_count": 23,
   "id": "b2612000-2559-4473-abf2-722624f4498e",
   "metadata": {},
   "outputs": [],
   "source": [
    "# Turn a line into a <line_length x 1 x n_chars>,\n",
    "def lineToTensor(line):\n",
    "    tensor = torch.zeros(len(line), 1, n_chars)\n",
    "    for li, letter in enumerate(line):\n",
    "        tensor[li][0][charToIndex(line)] = 1\n",
    "    return tensor"
   ]
  },
  {
   "cell_type": "code",
   "execution_count": 24,
   "id": "eec215ee-8e6e-4a2b-9a6e-985d93dba080",
   "metadata": {},
   "outputs": [
    {
     "name": "stdout",
     "output_type": "stream",
     "text": [
      "tensor([[0., 0., 0., 0., 0., 0., 0., 0., 0., 0., 0., 0., 0., 0., 0., 0., 0., 0.,\n",
      "         0., 0., 0., 0., 0., 0., 0., 0., 0., 0., 0., 0., 0., 0., 0., 0., 0., 0.,\n",
      "         0., 0., 0., 1., 0., 0.]])\n",
      "Cc1cc(O)c(C(=O)NC(C(=O)NC2C(=O)N3C(C(=O)O)=C(CSc4nnnn4C)CSC23)c2ccc(O)cc2)cn1\n",
      "torch.Size([39, 1, 42])\n"
     ]
    }
   ],
   "source": [
    "print(charToTensor('C'))\n",
    "print(smiles[0])\n",
    "print(lineToTensor('Cl.NC1=NCC2N1C1=C(CC3=C2C=CC=C3)C=CC=C1').size())"
   ]
  },
  {
   "cell_type": "code",
   "execution_count": 25,
   "id": "62970a58-1d32-4f84-919a-5f68d0f25b55",
   "metadata": {},
   "outputs": [],
   "source": [
    "# now implement a recurrent neural network\n",
    "class RNN(nn.Module):\n",
    "    def __init__(self, input_size, hidden_size, output_size):\n",
    "        super(RNN, self).__init__()\n",
    "\n",
    "        self.hidden_size = hidden_size\n",
    "\n",
    "        self.i2h = nn.Linear(input_size + hidden_size, hidden_size)\n",
    "        self.i2o = nn.Linear(input_size + hidden_size, output_size)\n",
    "        self.softmax = nn.LogSoftmax(dim=1)\n",
    "\n",
    "    def forward(self, input, hidden):\n",
    "        combined = torch.cat((input, hidden), 1)\n",
    "        hidden = self.i2h(combined)\n",
    "        output = self.i2o(combined)\n",
    "        output = self.softmax(output)\n",
    "        return output, hidden\n",
    "\n",
    "    def initHidden(self):\n",
    "        return torch.zeros(1, self.hidden_size)"
   ]
  },
  {
   "cell_type": "code",
   "execution_count": 26,
   "id": "54e88b70-a297-49df-a017-1efb0a058723",
   "metadata": {},
   "outputs": [
    {
     "name": "stdout",
     "output_type": "stream",
     "text": [
      "tensor([[-0.7078, -0.6787]], grad_fn=<LogSoftmaxBackward0>)\n"
     ]
    }
   ],
   "source": [
    "n_hidden = 100\n",
    "rnn = RNN(n_chars, n_hidden, n_categories)\n",
    "\n",
    "input = lineToTensor('Cl.NC1=NCC2N1C1=C(CC3=C2C=CC=C3)C=CC=C1')\n",
    "hidden = torch.zeros(1, n_hidden)\n",
    "\n",
    "output, next_hidden = rnn(input[0], hidden)\n",
    "print(output)"
   ]
  },
  {
   "cell_type": "code",
   "execution_count": 27,
   "id": "00fce963-c192-44d7-a9c9-21c371ca0b7d",
   "metadata": {},
   "outputs": [
    {
     "name": "stdout",
     "output_type": "stream",
     "text": [
      "('Active', 1)\n"
     ]
    }
   ],
   "source": [
    "def categoryFromOutput(output):\n",
    "    top_n, top_i = output.topk(1)\n",
    "    category_i = top_i[0].item()\n",
    "    return all_categories[category_i], category_i\n",
    "\n",
    "print(categoryFromOutput(output))"
   ]
  },
  {
   "cell_type": "code",
   "execution_count": 28,
   "id": "01fe1b4f-9aff-49a9-b48b-5c36cf4db934",
   "metadata": {},
   "outputs": [],
   "source": [
    "def randomChoice(l):\n",
    "    return l[random.randint(0, len(l) - 1)]\n",
    "\n",
    "def randomTrainingExample():\n",
    "    category = randomChoice(all_categories)\n",
    "    ind_category=data.index[data['Activity'] == category].tolist()\n",
    "    ind_random=randomChoice(ind_category)\n",
    "    line = smiles[ind_random]\n",
    "    category_tensor = torch.tensor([all_categories.index(category)], dtype=torch.long)\n",
    "    line_tensor = lineToTensor(line)\n",
    "    return category, line, category_tensor, line_tensor"
   ]
  },
  {
   "cell_type": "code",
   "execution_count": 29,
   "id": "5c58a4cd-f199-40b7-9481-90cf544ff1ab",
   "metadata": {},
   "outputs": [
    {
     "name": "stdout",
     "output_type": "stream",
     "text": [
      "category = Inactive / line = O=C(O)C1C(=CCO)OC2CC(=O)N21.[LiH]\n",
      "category = Inactive / line = COc1ccccc1-c1cc(=O)c2c(OC)cccc2o1\n",
      "category = Active / line = CC1CCc2c(N3CCC(O)CC3)c(F)cc3c(=O)c(C(=O)O)cn1c23\n",
      "category = Inactive / line = CC1=CCCC(C)=CCC(C)(C)C=CC1\n",
      "category = Inactive / line = CN(C)C(=N)NC(=N)N.Cl\n",
      "category = Active / line = COC1C=COC2(C)Oc3c(C)c(O)c4c(O)c(c(C=NN5CCN(C6CCCC6)CC5)c(O)c4c3C2=O)NC(=O)C(C)=CC=CC(C)C(O)C(C)C(O)C(C)C(OC(C)=O)C1C\n",
      "category = Active / line = COc1cc2c(cc1OC)C(=O)C(CC1CCN(Cc3ccccc3)CC1)C2.Cl\n",
      "category = Active / line = COC1(NC(=O)C2SC(=C(C(N)=O)C(=O)O)S2)C(=O)N2C(C(=O)O)=C(CSc3nnnn3C)CSC21\n",
      "category = Active / line = CC1CCc2cc(F)cc3c(=O)c(C(=O)O)cn1c23\n",
      "category = Active / line = CCC=C(C(=O)NC1C(=O)N2C(C(=O)OCOC(=O)C(C)(C)C)=C(COC(N)=O)CSC12)c1csc(N)n1.Cl\n"
     ]
    }
   ],
   "source": [
    "for i in range(10):\n",
    "    category, line, category_tensor, line_tensor = randomTrainingExample()\n",
    "    print('category =', category, '/ line =', line)"
   ]
  },
  {
   "cell_type": "code",
   "execution_count": 30,
   "id": "a2ae028f-f9ba-4398-bca9-32e5a5e55917",
   "metadata": {},
   "outputs": [],
   "source": [
    "criterion = nn.NLLLoss()\n",
    "\n",
    "learning_rate = 0.001 # If you set this too high, it might explode. If too low, it might not learn"
   ]
  },
  {
   "cell_type": "code",
   "execution_count": 31,
   "id": "bb4b9597-506e-431c-a6ad-de72a9e6b679",
   "metadata": {},
   "outputs": [],
   "source": [
    "def train(category_tensor, line_tensor):\n",
    "    hidden = rnn.initHidden()\n",
    "\n",
    "    rnn.zero_grad()\n",
    "\n",
    "    for i in range(line_tensor.size()[0]):\n",
    "        output, hidden = rnn(line_tensor[i], hidden)\n",
    "\n",
    "    loss = criterion(output, category_tensor)\n",
    "    loss.backward()\n",
    "\n",
    "    # Add parameters' gradients to their values, multiplied by learning rate\n",
    "    for p in rnn.parameters():\n",
    "        p.data.add_(p.grad.data, alpha=-learning_rate)\n",
    "\n",
    "    return output, loss.item()"
   ]
  },
  {
   "cell_type": "code",
   "execution_count": 32,
   "id": "82bb7b25-123d-4ce8-b8fc-176a6b671955",
   "metadata": {},
   "outputs": [],
   "source": [
    "n_iters = 25000 # initialize number of iterations to train\n",
    "print_every = 1000 # print prediction and whether or not its successful every 1000 iterations\n",
    "plot_every = 500 # plot prediction error every 500 iterations\n",
    "\n",
    "# Keep track of losses for plotting\n",
    "current_loss = 0\n",
    "all_losses = []"
   ]
  },
  {
   "cell_type": "code",
   "execution_count": 33,
   "id": "3f037d79-9c42-426c-a38e-7a813362376d",
   "metadata": {},
   "outputs": [],
   "source": [
    "def timeSince(since):\n",
    "    now = time.time()\n",
    "    s = now - since\n",
    "    m = math.floor(s / 60)\n",
    "    s -= m * 60\n",
    "    return '%dm %ds' % (m, s)"
   ]
  },
  {
   "cell_type": "code",
   "execution_count": 34,
   "id": "a2743b7d-51e2-4f0c-8e13-c6f1264f0ed9",
   "metadata": {},
   "outputs": [],
   "source": [
    "start = time.time()"
   ]
  },
  {
   "cell_type": "code",
   "execution_count": 35,
   "id": "45239d3c-713d-40f8-b98b-72e1d83d14b2",
   "metadata": {},
   "outputs": [
    {
     "name": "stdout",
     "output_type": "stream",
     "text": [
      "1000 4% (0m 8s) 0.7418 CC12CCC(=O)C=C1C=CC1C2CCC2(C)C1CCC21CCC(=O)O1 / Active ✗ (Inactive)\n",
      "2000 8% (0m 11s) 0.7679 Cl.NC(COP(=O)(O)O)C(=O)O / Active ✗ (Inactive)\n",
      "3000 12% (0m 15s) 0.6935 CCn1cc(C(=O)O)c(=O)c2cc(F)c(N3CCNCC3)cc21 / Inactive ✗ (Active)\n",
      "4000 16% (0m 18s) 0.7057 COc1c2ccoc2c(OC)c2oc(=O)ccc12 / Active ✗ (Inactive)\n",
      "5000 20% (0m 21s) 0.7125 Cl.NCC(CC(=O)O)c1ccc(Cl)cc1 / Active ✗ (Inactive)\n",
      "6000 24% (0m 25s) 0.7204 CCOC(=O)OC(C)OC(=O)C1N2C(=O)C(NC(=O)C(N)c3ccccc3)C2SC1(C)C.Cl / Inactive ✗ (Active)\n",
      "7000 28% (0m 28s) 0.6537 O=C(O)c1cc(N=Nc2ccc(S(=O)(=O)Nc3ccccn3)cc2)ccc1O / Inactive ✓\n",
      "8000 32% (0m 32s) 0.6836 C#CCCCCCCCCCCCC(O)CC(O)CO / Inactive ✓\n",
      "9000 36% (0m 35s) 0.6820 O=C(NC(CO)C(O)c1ccc([N+](=O)[O-])cc1)C(Cl)Cl / Active ✓\n",
      "10000 40% (0m 38s) 0.7425 COc1c2ccoc2nc2c(OC)c(OCC(O)C(C)(C)O)ccc12 / Active ✗ (Inactive)\n",
      "11000 44% (0m 42s) 0.7011 O=c1[nH]cc(F)c(=O)[nH]1 / Active ✗ (Inactive)\n",
      "12000 48% (0m 45s) 0.7850 CCCCCCCCCCCCCCCC[n+]1ccccc1.[Cl-] / Inactive ✗ (Active)\n",
      "13000 52% (0m 48s) 0.7397 NC(CO)C(=O)O / Active ✗ (Inactive)\n",
      "14000 56% (0m 52s) 0.6910 COc1cc(C=O)ccc1O / Inactive ✓\n",
      "15000 60% (0m 55s) 0.6662 NCC1OC(OC2C(N)CC(N)C(OC3OC(CO)C(O)C(N)C3O)C2O)C(N)C(O)C1O.O=S(=O)(O)O / Active ✓\n",
      "16000 64% (0m 59s) 0.6995 COc1c(-c2coc3cc4c(cc3c2=O)CC(O)C(C)(C)O4)ccc2c1C=CC(C)(C)O2 / Active ✗ (Inactive)\n",
      "17000 68% (1m 2s) 0.7069 O=C(O)C=CC(=O)O.OCCOCCN1CCN(C2=Nc3ccccc3Sc3ccccc32)CC1 / Active ✗ (Inactive)\n",
      "18000 72% (1m 5s) 0.7581 NCC1OC(OC2C(N)CC(N)C(OC3OC(CO)C(O)C(N)C3O)C2O)C(N)CC1O / Inactive ✗ (Active)\n",
      "19000 76% (1m 9s) 0.6842 CCC1OC(=O)C(C)C(=O)C(C)C(OC2OC(C)CC(N(C)C)C2O)C(C)(OC)CC(C)C(=O)C(C)C2N(CCCCn3cnc(-c4cccnc4)c3)C(=O)OC12C / Active ✓\n",
      "20000 80% (1m 12s) 0.6918 Cc1cc(-n2c(=O)[nH]c(=O)n(C)c2=O)ccc1Oc1ccc(SC(F)(F)F)cc1 / Inactive ✓\n",
      "21000 84% (1m 16s) 0.6926 CN(C)C1C(O)=C(C(N)=O)C(=O)C2(O)C(O)=C3C(=O)c4c(O)cccc4C(C)(O)C3CC12.Cl / Active ✓\n",
      "22000 88% (1m 19s) 0.7188 CS(=O)(=O)CCNCc1ccc(-c2ccc3ncnc(Nc4ccc(OCc5cccc(F)c5)c(Cl)c4)c3c2)o1 / Active ✗ (Inactive)\n",
      "23000 92% (1m 22s) 0.6921 CN1CCN(c2c(F)cc3c(=O)c(C(=O)O)cn4c3c2SCC4)CC1 / Active ✓\n",
      "24000 96% (1m 26s) 0.7327 CCn1cc(C(=O)O)c(=O)c2cc(F)c(N3CCNCC3)cc21 / Inactive ✗ (Active)\n",
      "25000 100% (1m 29s) 0.7056 O=c1c(O)c(-c2ccc(O)c(O)c2)oc2cc(O)ccc12 / Active ✗ (Inactive)\n"
     ]
    },
    {
     "data": {
      "text/plain": [
       "<function matplotlib.pyplot.xlabel(xlabel, fontdict=None, labelpad=None, *, loc=None, **kwargs)>"
      ]
     },
     "execution_count": 35,
     "metadata": {},
     "output_type": "execute_result"
    },
    {
     "data": {
      "image/png": "[encoded data removed]",
      "text/plain": [
       "<Figure size 640x480 with 1 Axes>"
      ]
     },
     "metadata": {},
     "output_type": "display_data"
    }
   ],
   "source": [
    "for iter in range(1, n_iters + 1):\n",
    "    category, line, category_tensor, line_tensor = randomTrainingExample()\n",
    "    output, loss = train(category_tensor, line_tensor)\n",
    "    current_loss += loss\n",
    "\n",
    "    # Print iter number, loss, name and guess\n",
    "    if iter % print_every == 0:\n",
    "        guess, guess_i = categoryFromOutput(output)\n",
    "        correct = '✓' if guess == category else '✗ (%s)' % category\n",
    "        print('%d %d%% (%s) %.4f %s / %s %s' % (iter, iter / n_iters * 100, timeSince(start), loss, line, guess, correct))\n",
    "\n",
    "    # Add current loss avg to list of losses\n",
    "    if iter % plot_every == 0:\n",
    "        all_losses.append(current_loss / plot_every)\n",
    "        current_loss = 0\n",
    "        \n",
    "plt.plot(all_losses)\n",
    "plt.xlabel"
   ]
  },
  {
   "cell_type": "code",
   "execution_count": 36,
   "id": "46c3449e-8e17-46e7-9217-26d1f3c99b70",
   "metadata": {},
   "outputs": [],
   "source": [
    "def evaluate(line_tensor):\n",
    "    hidden = rnn.initHidden()\n",
    "\n",
    "    for i in range(line_tensor.size()[0]):\n",
    "        output, hidden = rnn(line_tensor[i], hidden)\n",
    "\n",
    "    return output\n",
    "\n",
    "def predict(input_line, n_predictions=1):\n",
    "    print('\\n> %s' % input_line)\n",
    "    with torch.no_grad():\n",
    "        output = evaluate(lineToTensor(input_line))\n",
    "\n",
    "        # Get top N categories\n",
    "        topv, topi = output.topk(n_predictions, 1, True)\n",
    "        predictions = []\n",
    "\n",
    "        for i in range(n_predictions):\n",
    "            value = topv[0][i].item()\n",
    "            category_index = topi[0][i].item()\n",
    "            print('(%.2f) %s' % (value, all_categories[category_index]))\n",
    "            predictions.append([value, all_categories[category_index]])"
   ]
  },
  {
   "cell_type": "code",
   "execution_count": 37,
   "id": "cf21a75e-19e2-4000-8fbb-328821aa01aa",
   "metadata": {},
   "outputs": [
    {
     "name": "stdout",
     "output_type": "stream",
     "text": [
      "\n",
      "> CCS(=O)(=O)C1=NC=C(CN(C)C2CCCCC2)N1CC1=CC=CC=C1\n",
      "(-0.68) Active\n",
      "Correct Bin: Inactive\n",
      "\n",
      "> Cl.COC1=CC=C(OC)C(=C1)C(O)C(C)N\n",
      "(-0.68) Active\n",
      "Correct Bin: Inactive\n",
      "\n",
      "> [Na+].NC1=CC=C(C=C1)S(=O)(=O)[N-]C1=NC2=CC=CC=C2N=C1\n",
      "(-0.68) Active\n",
      "Correct Bin: Inactive\n",
      "\n",
      "> CC(C)(C)C1=CC=C(C=C1)C(=O)CCCN1CCC(CC1)OC(C1=CC=CC=C1)C1=CC=CC=C1\n",
      "(-0.68) Active\n",
      "Correct Bin: Inactive\n",
      "\n",
      "> Cl.CN(C)[C@H]1[C@@H]2C[C@@H]3[C@H](O)C4=C(Cl)C=CC(O)=C4C(=O)C3=C(O)[C@]2(O)C(=O)C(C(N)=O)=C1O\n",
      "(-0.68) Active\n",
      "Correct Bin: Active\n"
     ]
    }
   ],
   "source": [
    "# now that model is trained, make predictions\n",
    "\n",
    "predict('CCS(=O)(=O)C1=NC=C(CN(C)C2CCCCC2)N1CC1=CC=CC=C1')\n",
    "print('Correct Bin: Inactive')\n",
    "predict('Cl.COC1=CC=C(OC)C(=C1)C(O)C(C)N')\n",
    "print('Correct Bin: Inactive')\n",
    "predict('[Na+].NC1=CC=C(C=C1)S(=O)(=O)[N-]C1=NC2=CC=CC=C2N=C1')\n",
    "print('Correct Bin: Inactive')\n",
    "predict('CC(C)(C)C1=CC=C(C=C1)C(=O)CCCN1CCC(CC1)OC(C1=CC=CC=C1)C1=CC=CC=C1')\n",
    "print('Correct Bin: Inactive')\n",
    "predict('Cl.CN(C)[C@H]1[C@@H]2C[C@@H]3[C@H](O)C4=C(Cl)C=CC(O)=C4C(=O)C3=C(O)[C@]2(O)C(=O)C(C(N)=O)=C1O')\n",
    "print('Correct Bin: Active')"
   ]
  },
  {
   "cell_type": "markdown",
   "id": "d24f3e83-640d-4bc1-85ef-08ee319cef8e",
   "metadata": {},
   "source": [
    "While this algorithm has a long way to go to achieve reliability, it is capable of predicting better than 10% (random guessing) after enough training."
   ]
  },
  {
   "cell_type": "code",
   "execution_count": null,
   "id": "9dbd79f0-1134-46bb-a3d5-8da4f51d5621",
   "metadata": {},
   "outputs": [],
   "source": []
  },
  {
   "cell_type": "code",
   "execution_count": null,
   "id": "9fea1b87-018b-4f9c-948f-a1e0825daf0b",
   "metadata": {},
   "outputs": [],
   "source": []
  }
 ],
 "metadata": {
  "kernelspec": {
   "display_name": "Python 3 (ipykernel)",
   "language": "python",
   "name": "python3"
  },
  "language_info": {
   "codemirror_mode": {
    "name": "ipython",
    "version": 3
   },
   "file_extension": ".py",
   "mimetype": "text/x-python",
   "name": "python",
   "nbconvert_exporter": "python",
   "pygments_lexer": "ipython3",
   "version": "3.10.10"
  }
 },
 "nbformat": 4,
 "nbformat_minor": 5
}
